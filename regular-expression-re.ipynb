{
 "cells": [
  {
   "cell_type": "code",
   "execution_count": 1,
   "id": "07cd1b29",
   "metadata": {
    "_cell_guid": "b1076dfc-b9ad-4769-8c92-a6c4dae69d19",
    "_uuid": "8f2839f25d086af736a60e9eeb907d3b93b6e0e5",
    "execution": {
     "iopub.execute_input": "2023-10-30T08:56:26.279379Z",
     "iopub.status.busy": "2023-10-30T08:56:26.278486Z",
     "iopub.status.idle": "2023-10-30T08:56:27.194157Z",
     "shell.execute_reply": "2023-10-30T08:56:27.192503Z"
    },
    "papermill": {
     "duration": 0.924808,
     "end_time": "2023-10-30T08:56:27.197458",
     "exception": false,
     "start_time": "2023-10-30T08:56:26.272650",
     "status": "completed"
    },
    "tags": []
   },
   "outputs": [],
   "source": [
    "# This Python 3 environment comes with many helpful analytics libraries installed\n",
    "# It is defined by the kaggle/python Docker image: https://github.com/kaggle/docker-python\n",
    "# For example, here's several helpful packages to load\n",
    "\n",
    "import numpy as np # linear algebra\n",
    "import pandas as pd # data processing, CSV file I/O (e.g. pd.read_csv)\n",
    "\n",
    "# Input data files are available in the read-only \"../input/\" directory\n",
    "# For example, running this (by clicking run or pressing Shift+Enter) will list all files under the input directory\n",
    "\n",
    "import os\n",
    "for dirname, _, filenames in os.walk('/kaggle/input'):\n",
    "    for filename in filenames:\n",
    "        print(os.path.join(dirname, filename))\n",
    "\n",
    "# You can write up to 20GB to the current directory (/kaggle/working/) that gets preserved as output when you create a version using \"Save & Run All\" \n",
    "# You can also write temporary files to /kaggle/temp/, but they won't be saved outside of the current session"
   ]
  },
  {
   "cell_type": "code",
   "execution_count": 2,
   "id": "7d83752f",
   "metadata": {
    "execution": {
     "iopub.execute_input": "2023-10-30T08:56:27.209637Z",
     "iopub.status.busy": "2023-10-30T08:56:27.208952Z",
     "iopub.status.idle": "2023-10-30T08:56:27.217468Z",
     "shell.execute_reply": "2023-10-30T08:56:27.215878Z"
    },
    "papermill": {
     "duration": 0.020157,
     "end_time": "2023-10-30T08:56:27.221353",
     "exception": false,
     "start_time": "2023-10-30T08:56:27.201196",
     "status": "completed"
    },
    "tags": []
   },
   "outputs": [
    {
     "name": "stdout",
     "output_type": "stream",
     "text": [
      "<re.Match object; span=(4, 8), match='sant'>\n"
     ]
    }
   ],
   "source": [
    "#search---start,stop,span\n",
    "import re\n",
    "text =\"i'm santhosh\"\n",
    "x=\"sant\"\n",
    "result=re.search(x,text)\n",
    "print(result)"
   ]
  },
  {
   "cell_type": "code",
   "execution_count": 3,
   "id": "428a5360",
   "metadata": {
    "execution": {
     "iopub.execute_input": "2023-10-30T08:56:27.231042Z",
     "iopub.status.busy": "2023-10-30T08:56:27.230626Z",
     "iopub.status.idle": "2023-10-30T08:56:27.238830Z",
     "shell.execute_reply": "2023-10-30T08:56:27.236808Z"
    },
    "papermill": {
     "duration": 0.016793,
     "end_time": "2023-10-30T08:56:27.241740",
     "exception": false,
     "start_time": "2023-10-30T08:56:27.224947",
     "status": "completed"
    },
    "tags": []
   },
   "outputs": [
    {
     "name": "stdout",
     "output_type": "stream",
     "text": [
      "['sant']\n"
     ]
    }
   ],
   "source": [
    "#findall---pattern,variable\n",
    "import re\n",
    "text =\"i'm santhosh\"\n",
    "x=\"sant\"\n",
    "result=re.findall(x,text)\n",
    "print(result)"
   ]
  },
  {
   "cell_type": "code",
   "execution_count": 4,
   "id": "55a34646",
   "metadata": {
    "execution": {
     "iopub.execute_input": "2023-10-30T08:56:27.251633Z",
     "iopub.status.busy": "2023-10-30T08:56:27.251174Z",
     "iopub.status.idle": "2023-10-30T08:56:27.258419Z",
     "shell.execute_reply": "2023-10-30T08:56:27.256555Z"
    },
    "papermill": {
     "duration": 0.016482,
     "end_time": "2023-10-30T08:56:27.262042",
     "exception": false,
     "start_time": "2023-10-30T08:56:27.245560",
     "status": "completed"
    },
    "tags": []
   },
   "outputs": [
    {
     "name": "stdout",
     "output_type": "stream",
     "text": [
      "['my ', ' is santy']\n"
     ]
    }
   ],
   "source": [
    "#split\n",
    "import re\n",
    "text=\"my name is santy\"\n",
    "result=re.split(\"name\",text)\n",
    "print(result)"
   ]
  },
  {
   "cell_type": "code",
   "execution_count": 5,
   "id": "7be36073",
   "metadata": {
    "execution": {
     "iopub.execute_input": "2023-10-30T08:56:27.272141Z",
     "iopub.status.busy": "2023-10-30T08:56:27.271635Z",
     "iopub.status.idle": "2023-10-30T08:56:27.278375Z",
     "shell.execute_reply": "2023-10-30T08:56:27.277459Z"
    },
    "papermill": {
     "duration": 0.015475,
     "end_time": "2023-10-30T08:56:27.281284",
     "exception": false,
     "start_time": "2023-10-30T08:56:27.265809",
     "status": "completed"
    },
    "tags": []
   },
   "outputs": [
    {
     "name": "stdout",
     "output_type": "stream",
     "text": [
      "my name iS Santy\n"
     ]
    }
   ],
   "source": [
    "#sub\n",
    "import re\n",
    "text =\"my name is santy\"\n",
    "result=re.sub(\"s\",\"S\",text)\n",
    "print(result)"
   ]
  },
  {
   "cell_type": "code",
   "execution_count": null,
   "id": "c4d795f8",
   "metadata": {
    "papermill": {
     "duration": 0.003997,
     "end_time": "2023-10-30T08:56:27.289878",
     "exception": false,
     "start_time": "2023-10-30T08:56:27.285881",
     "status": "completed"
    },
    "tags": []
   },
   "outputs": [],
   "source": []
  }
 ],
 "metadata": {
  "kernelspec": {
   "display_name": "Python 3",
   "language": "python",
   "name": "python3"
  },
  "language_info": {
   "codemirror_mode": {
    "name": "ipython",
    "version": 3
   },
   "file_extension": ".py",
   "mimetype": "text/x-python",
   "name": "python",
   "nbconvert_exporter": "python",
   "pygments_lexer": "ipython3",
   "version": "3.10.12"
  },
  "papermill": {
   "default_parameters": {},
   "duration": 6.562716,
   "end_time": "2023-10-30T08:56:27.818969",
   "environment_variables": {},
   "exception": null,
   "input_path": "__notebook__.ipynb",
   "output_path": "__notebook__.ipynb",
   "parameters": {},
   "start_time": "2023-10-30T08:56:21.256253",
   "version": "2.4.0"
  }
 },
 "nbformat": 4,
 "nbformat_minor": 5
}
