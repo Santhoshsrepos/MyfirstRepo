{
 "cells": [
  {
   "cell_type": "code",
   "execution_count": 1,
   "id": "df69ea7d",
   "metadata": {
    "_cell_guid": "b1076dfc-b9ad-4769-8c92-a6c4dae69d19",
    "_uuid": "8f2839f25d086af736a60e9eeb907d3b93b6e0e5",
    "execution": {
     "iopub.execute_input": "2023-10-25T16:10:56.333845Z",
     "iopub.status.busy": "2023-10-25T16:10:56.333511Z",
     "iopub.status.idle": "2023-10-25T16:10:56.641773Z",
     "shell.execute_reply": "2023-10-25T16:10:56.640360Z"
    },
    "papermill": {
     "duration": 0.315187,
     "end_time": "2023-10-25T16:10:56.644655",
     "exception": false,
     "start_time": "2023-10-25T16:10:56.329468",
     "status": "completed"
    },
    "tags": []
   },
   "outputs": [],
   "source": [
    "# This Python 3 environment comes with many helpful analytics libraries installed\n",
    "# It is defined by the kaggle/python Docker image: https://github.com/kaggle/docker-python\n",
    "# For example, here's several helpful packages to load\n",
    "\n",
    "import numpy as np # linear algebra\n",
    "import pandas as pd # data processing, CSV file I/O (e.g. pd.read_csv)\n",
    "\n",
    "# Input data files are available in the read-only \"../input/\" directory\n",
    "# For example, running this (by clicking run or pressing Shift+Enter) will list all files under the input directory\n",
    "\n",
    "import os\n",
    "for dirname, _, filenames in os.walk('/kaggle/input'):\n",
    "    for filename in filenames:\n",
    "        print(os.path.join(dirname, filename))\n",
    "\n",
    "# You can write up to 20GB to the current directory (/kaggle/working/) that gets preserved as output when you create a version using \"Save & Run All\" \n",
    "# You can also write temporary files to /kaggle/temp/, but they won't be saved outside of the current session"
   ]
  },
  {
   "cell_type": "code",
   "execution_count": 2,
   "id": "21ec8558",
   "metadata": {
    "execution": {
     "iopub.execute_input": "2023-10-25T16:10:56.650235Z",
     "iopub.status.busy": "2023-10-25T16:10:56.649504Z",
     "iopub.status.idle": "2023-10-25T16:10:56.655650Z",
     "shell.execute_reply": "2023-10-25T16:10:56.654644Z"
    },
    "papermill": {
     "duration": 0.011178,
     "end_time": "2023-10-25T16:10:56.657944",
     "exception": false,
     "start_time": "2023-10-25T16:10:56.646766",
     "status": "completed"
    },
    "tags": []
   },
   "outputs": [
    {
     "name": "stdout",
     "output_type": "stream",
     "text": [
      "2\n",
      "4\n",
      "6\n",
      "8\n",
      "10\n",
      "12\n",
      "14\n",
      "16\n",
      "18\n",
      "20\n",
      "22\n"
     ]
    }
   ],
   "source": [
    "a=2\n",
    "x=0\n",
    "print(a)\n",
    "while x<20:\n",
    "    b=a+2\n",
    "    print(b)\n",
    "    x=a\n",
    "    a=b\n",
    " \n",
    "    \n",
    "\n",
    "\n",
    "\n",
    "\n",
    "    \n",
    "  \n"
   ]
  },
  {
   "cell_type": "code",
   "execution_count": 3,
   "id": "6b8f027d",
   "metadata": {
    "execution": {
     "iopub.execute_input": "2023-10-25T16:10:56.663476Z",
     "iopub.status.busy": "2023-10-25T16:10:56.663064Z",
     "iopub.status.idle": "2023-10-25T16:10:56.669869Z",
     "shell.execute_reply": "2023-10-25T16:10:56.668368Z"
    },
    "papermill": {
     "duration": 0.012684,
     "end_time": "2023-10-25T16:10:56.672564",
     "exception": false,
     "start_time": "2023-10-25T16:10:56.659880",
     "status": "completed"
    },
    "tags": []
   },
   "outputs": [
    {
     "name": "stdout",
     "output_type": "stream",
     "text": [
      "2\n",
      "4\n",
      "8\n",
      "16\n",
      "32\n",
      "64\n"
     ]
    }
   ],
   "source": [
    "a=1\n",
    "x=0\n",
    "while x<20:\n",
    "    b=a*2\n",
    "    print(b)\n",
    "    x=a\n",
    "    a=b\n",
    " \n",
    "    \n",
    "\n",
    "    "
   ]
  },
  {
   "cell_type": "code",
   "execution_count": null,
   "id": "e5c43cea",
   "metadata": {
    "papermill": {
     "duration": 0.001662,
     "end_time": "2023-10-25T16:10:56.676351",
     "exception": false,
     "start_time": "2023-10-25T16:10:56.674689",
     "status": "completed"
    },
    "tags": []
   },
   "outputs": [],
   "source": []
  }
 ],
 "metadata": {
  "kernelspec": {
   "display_name": "Python 3",
   "language": "python",
   "name": "python3"
  },
  "language_info": {
   "codemirror_mode": {
    "name": "ipython",
    "version": 3
   },
   "file_extension": ".py",
   "mimetype": "text/x-python",
   "name": "python",
   "nbconvert_exporter": "python",
   "pygments_lexer": "ipython3",
   "version": "3.10.12"
  },
  "papermill": {
   "default_parameters": {},
   "duration": 3.675124,
   "end_time": "2023-10-25T16:10:57.098557",
   "environment_variables": {},
   "exception": null,
   "input_path": "__notebook__.ipynb",
   "output_path": "__notebook__.ipynb",
   "parameters": {},
   "start_time": "2023-10-25T16:10:53.423433",
   "version": "2.4.0"
  }
 },
 "nbformat": 4,
 "nbformat_minor": 5
}
