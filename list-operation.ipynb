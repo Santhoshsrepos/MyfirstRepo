{
 "cells": [
  {
   "cell_type": "code",
   "execution_count": 1,
   "id": "e27dc596",
   "metadata": {
    "_cell_guid": "b1076dfc-b9ad-4769-8c92-a6c4dae69d19",
    "_uuid": "8f2839f25d086af736a60e9eeb907d3b93b6e0e5",
    "execution": {
     "iopub.execute_input": "2023-10-24T10:38:52.735737Z",
     "iopub.status.busy": "2023-10-24T10:38:52.735209Z",
     "iopub.status.idle": "2023-10-24T10:38:53.216961Z",
     "shell.execute_reply": "2023-10-24T10:38:53.215376Z"
    },
    "papermill": {
     "duration": 0.491166,
     "end_time": "2023-10-24T10:38:53.220067",
     "exception": false,
     "start_time": "2023-10-24T10:38:52.728901",
     "status": "completed"
    },
    "tags": []
   },
   "outputs": [],
   "source": [
    "# This Python 3 environment comes with many helpful analytics libraries installed\n",
    "# It is defined by the kaggle/python Docker image: https://github.com/kaggle/docker-python\n",
    "# For example, here's several helpful packages to load\n",
    "\n",
    "import numpy as np # linear algebra\n",
    "import pandas as pd # data processing, CSV file I/O (e.g. pd.read_csv)\n",
    "\n",
    "# Input data files are available in the read-only \"../input/\" directory\n",
    "# For example, running this (by clicking run or pressing Shift+Enter) will list all files under the input directory\n",
    "\n",
    "import os\n",
    "for dirname, _, filenames in os.walk('/kaggle/input'):\n",
    "    for filename in filenames:\n",
    "        print(os.path.join(dirname, filename))\n",
    "\n",
    "# You can write up to 20GB to the current directory (/kaggle/working/) that gets preserved as output when you create a version using \"Save & Run All\" \n",
    "# You can also write temporary files to /kaggle/temp/, but they won't be saved outside of the current session"
   ]
  },
  {
   "cell_type": "code",
   "execution_count": 2,
   "id": "7c7da76e",
   "metadata": {
    "execution": {
     "iopub.execute_input": "2023-10-24T10:38:53.234282Z",
     "iopub.status.busy": "2023-10-24T10:38:53.233642Z",
     "iopub.status.idle": "2023-10-24T10:38:53.240111Z",
     "shell.execute_reply": "2023-10-24T10:38:53.238621Z"
    },
    "papermill": {
     "duration": 0.014957,
     "end_time": "2023-10-24T10:38:53.242638",
     "exception": false,
     "start_time": "2023-10-24T10:38:53.227681",
     "status": "completed"
    },
    "tags": []
   },
   "outputs": [],
   "source": [
    "a=[1,2,3,4,5]"
   ]
  },
  {
   "cell_type": "code",
   "execution_count": 3,
   "id": "0dbed0e5",
   "metadata": {
    "execution": {
     "iopub.execute_input": "2023-10-24T10:38:53.253472Z",
     "iopub.status.busy": "2023-10-24T10:38:53.252341Z",
     "iopub.status.idle": "2023-10-24T10:38:53.259931Z",
     "shell.execute_reply": "2023-10-24T10:38:53.257955Z"
    },
    "papermill": {
     "duration": 0.017121,
     "end_time": "2023-10-24T10:38:53.263550",
     "exception": false,
     "start_time": "2023-10-24T10:38:53.246429",
     "status": "completed"
    },
    "tags": []
   },
   "outputs": [],
   "source": [
    "a=[1,2,3,4,5,7]"
   ]
  },
  {
   "cell_type": "code",
   "execution_count": 4,
   "id": "7c2b565b",
   "metadata": {
    "execution": {
     "iopub.execute_input": "2023-10-24T10:38:53.272884Z",
     "iopub.status.busy": "2023-10-24T10:38:53.272491Z",
     "iopub.status.idle": "2023-10-24T10:38:53.279541Z",
     "shell.execute_reply": "2023-10-24T10:38:53.277515Z"
    },
    "papermill": {
     "duration": 0.014756,
     "end_time": "2023-10-24T10:38:53.282161",
     "exception": false,
     "start_time": "2023-10-24T10:38:53.267405",
     "status": "completed"
    },
    "tags": []
   },
   "outputs": [],
   "source": [
    "a.append(8)"
   ]
  },
  {
   "cell_type": "code",
   "execution_count": 5,
   "id": "10a064d8",
   "metadata": {
    "execution": {
     "iopub.execute_input": "2023-10-24T10:38:53.291810Z",
     "iopub.status.busy": "2023-10-24T10:38:53.291407Z",
     "iopub.status.idle": "2023-10-24T10:38:53.299657Z",
     "shell.execute_reply": "2023-10-24T10:38:53.298768Z"
    },
    "papermill": {
     "duration": 0.017008,
     "end_time": "2023-10-24T10:38:53.303245",
     "exception": false,
     "start_time": "2023-10-24T10:38:53.286237",
     "status": "completed"
    },
    "tags": []
   },
   "outputs": [
    {
     "data": {
      "text/plain": [
       "[1, 2, 3, 4, 5, 7, 8]"
      ]
     },
     "execution_count": 5,
     "metadata": {},
     "output_type": "execute_result"
    }
   ],
   "source": [
    "a"
   ]
  },
  {
   "cell_type": "code",
   "execution_count": 6,
   "id": "0c450b97",
   "metadata": {
    "execution": {
     "iopub.execute_input": "2023-10-24T10:38:53.313832Z",
     "iopub.status.busy": "2023-10-24T10:38:53.312437Z",
     "iopub.status.idle": "2023-10-24T10:38:53.318691Z",
     "shell.execute_reply": "2023-10-24T10:38:53.317852Z"
    },
    "papermill": {
     "duration": 0.013997,
     "end_time": "2023-10-24T10:38:53.321133",
     "exception": false,
     "start_time": "2023-10-24T10:38:53.307136",
     "status": "completed"
    },
    "tags": []
   },
   "outputs": [],
   "source": [
    "a.remove(8)"
   ]
  },
  {
   "cell_type": "code",
   "execution_count": 7,
   "id": "374748f5",
   "metadata": {
    "execution": {
     "iopub.execute_input": "2023-10-24T10:38:53.331644Z",
     "iopub.status.busy": "2023-10-24T10:38:53.331242Z",
     "iopub.status.idle": "2023-10-24T10:38:53.341596Z",
     "shell.execute_reply": "2023-10-24T10:38:53.339287Z"
    },
    "papermill": {
     "duration": 0.019601,
     "end_time": "2023-10-24T10:38:53.344752",
     "exception": false,
     "start_time": "2023-10-24T10:38:53.325151",
     "status": "completed"
    },
    "tags": []
   },
   "outputs": [
    {
     "data": {
      "text/plain": [
       "[1, 2, 3, 4, 5, 7]"
      ]
     },
     "execution_count": 7,
     "metadata": {},
     "output_type": "execute_result"
    }
   ],
   "source": [
    "a"
   ]
  },
  {
   "cell_type": "code",
   "execution_count": null,
   "id": "cd3a45f5",
   "metadata": {
    "papermill": {
     "duration": 0.003898,
     "end_time": "2023-10-24T10:38:53.352817",
     "exception": false,
     "start_time": "2023-10-24T10:38:53.348919",
     "status": "completed"
    },
    "tags": []
   },
   "outputs": [],
   "source": []
  }
 ],
 "metadata": {
  "kernelspec": {
   "display_name": "Python 3",
   "language": "python",
   "name": "python3"
  },
  "language_info": {
   "codemirror_mode": {
    "name": "ipython",
    "version": 3
   },
   "file_extension": ".py",
   "mimetype": "text/x-python",
   "name": "python",
   "nbconvert_exporter": "python",
   "pygments_lexer": "ipython3",
   "version": "3.10.12"
  },
  "papermill": {
   "default_parameters": {},
   "duration": 5.435555,
   "end_time": "2023-10-24T10:38:53.981991",
   "environment_variables": {},
   "exception": null,
   "input_path": "__notebook__.ipynb",
   "output_path": "__notebook__.ipynb",
   "parameters": {},
   "start_time": "2023-10-24T10:38:48.546436",
   "version": "2.4.0"
  }
 },
 "nbformat": 4,
 "nbformat_minor": 5
}
