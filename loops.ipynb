{
 "cells": [
  {
   "cell_type": "code",
   "execution_count": 1,
   "id": "02bc12dc",
   "metadata": {
    "_cell_guid": "b1076dfc-b9ad-4769-8c92-a6c4dae69d19",
    "_uuid": "8f2839f25d086af736a60e9eeb907d3b93b6e0e5",
    "execution": {
     "iopub.execute_input": "2023-10-25T16:17:06.205846Z",
     "iopub.status.busy": "2023-10-25T16:17:06.205334Z",
     "iopub.status.idle": "2023-10-25T16:17:06.648481Z",
     "shell.execute_reply": "2023-10-25T16:17:06.647423Z"
    },
    "papermill": {
     "duration": 0.45106,
     "end_time": "2023-10-25T16:17:06.651428",
     "exception": false,
     "start_time": "2023-10-25T16:17:06.200368",
     "status": "completed"
    },
    "tags": []
   },
   "outputs": [],
   "source": [
    "# This Python 3 environment comes with many helpful analytics libraries installed\n",
    "# It is defined by the kaggle/python Docker image: https://github.com/kaggle/docker-python\n",
    "# For example, here's several helpful packages to load\n",
    "\n",
    "import numpy as np # linear algebra\n",
    "import pandas as pd # data processing, CSV file I/O (e.g. pd.read_csv)\n",
    "\n",
    "# Input data files are available in the read-only \"../input/\" directory\n",
    "# For example, running this (by clicking run or pressing Shift+Enter) will list all files under the input directory\n",
    "\n",
    "import os\n",
    "for dirname, _, filenames in os.walk('/kaggle/input'):\n",
    "    for filename in filenames:\n",
    "        print(os.path.join(dirname, filename))\n",
    "\n",
    "# You can write up to 20GB to the current directory (/kaggle/working/) that gets preserved as output when you create a version using \"Save & Run All\" \n",
    "# You can also write temporary files to /kaggle/temp/, but they won't be saved outside of the current session"
   ]
  },
  {
   "cell_type": "code",
   "execution_count": 2,
   "id": "5f02bc65",
   "metadata": {
    "execution": {
     "iopub.execute_input": "2023-10-25T16:17:06.659574Z",
     "iopub.status.busy": "2023-10-25T16:17:06.658386Z",
     "iopub.status.idle": "2023-10-25T16:17:06.666341Z",
     "shell.execute_reply": "2023-10-25T16:17:06.665067Z"
    },
    "papermill": {
     "duration": 0.016442,
     "end_time": "2023-10-25T16:17:06.670791",
     "exception": false,
     "start_time": "2023-10-25T16:17:06.654349",
     "status": "completed"
    },
    "tags": []
   },
   "outputs": [
    {
     "name": "stdout",
     "output_type": "stream",
     "text": [
      "2\n",
      "4\n",
      "6\n",
      "8\n",
      "10\n",
      "12\n",
      "14\n",
      "16\n",
      "18\n",
      "20\n",
      "22\n"
     ]
    }
   ],
   "source": [
    "a=2\n",
    "x=0\n",
    "print(a)\n",
    "while x<20:\n",
    "    b=a+2\n",
    "    print(b)\n",
    "    x=a\n",
    "    a=b\n",
    " \n",
    "    \n",
    "\n",
    "\n",
    "\n",
    "\n",
    "    \n",
    "  \n"
   ]
  },
  {
   "cell_type": "code",
   "execution_count": 3,
   "id": "5acd870d",
   "metadata": {
    "execution": {
     "iopub.execute_input": "2023-10-25T16:17:06.678055Z",
     "iopub.status.busy": "2023-10-25T16:17:06.677655Z",
     "iopub.status.idle": "2023-10-25T16:17:06.685404Z",
     "shell.execute_reply": "2023-10-25T16:17:06.684053Z"
    },
    "papermill": {
     "duration": 0.014585,
     "end_time": "2023-10-25T16:17:06.688147",
     "exception": false,
     "start_time": "2023-10-25T16:17:06.673562",
     "status": "completed"
    },
    "tags": []
   },
   "outputs": [
    {
     "name": "stdout",
     "output_type": "stream",
     "text": [
      "2\n",
      "4\n",
      "8\n",
      "16\n",
      "32\n",
      "64\n"
     ]
    }
   ],
   "source": [
    "a=1\n",
    "x=0\n",
    "while x<20:\n",
    "    b=a*2\n",
    "    print(b)\n",
    "    x=a\n",
    "    a=b\n",
    " \n",
    "    \n",
    "\n",
    "    "
   ]
  },
  {
   "cell_type": "code",
   "execution_count": null,
   "id": "479881b4",
   "metadata": {
    "papermill": {
     "duration": 0.002434,
     "end_time": "2023-10-25T16:17:06.693415",
     "exception": false,
     "start_time": "2023-10-25T16:17:06.690981",
     "status": "completed"
    },
    "tags": []
   },
   "outputs": [],
   "source": []
  }
 ],
 "metadata": {
  "kernelspec": {
   "display_name": "Python 3",
   "language": "python",
   "name": "python3"
  },
  "language_info": {
   "codemirror_mode": {
    "name": "ipython",
    "version": 3
   },
   "file_extension": ".py",
   "mimetype": "text/x-python",
   "name": "python",
   "nbconvert_exporter": "python",
   "pygments_lexer": "ipython3",
   "version": "3.10.12"
  },
  "papermill": {
   "default_parameters": {},
   "duration": 5.009557,
   "end_time": "2023-10-25T16:17:07.220152",
   "environment_variables": {},
   "exception": null,
   "input_path": "__notebook__.ipynb",
   "output_path": "__notebook__.ipynb",
   "parameters": {},
   "start_time": "2023-10-25T16:17:02.210595",
   "version": "2.4.0"
  }
 },
 "nbformat": 4,
 "nbformat_minor": 5
}
