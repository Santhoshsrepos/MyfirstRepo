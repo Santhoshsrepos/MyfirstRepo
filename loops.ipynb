{
 "cells": [
  {
   "cell_type": "code",
   "execution_count": 1,
   "id": "14b499de",
   "metadata": {
    "_cell_guid": "b1076dfc-b9ad-4769-8c92-a6c4dae69d19",
    "_uuid": "8f2839f25d086af736a60e9eeb907d3b93b6e0e5",
    "execution": {
     "iopub.execute_input": "2023-10-25T17:07:36.853720Z",
     "iopub.status.busy": "2023-10-25T17:07:36.852725Z",
     "iopub.status.idle": "2023-10-25T17:07:37.221921Z",
     "shell.execute_reply": "2023-10-25T17:07:37.220826Z"
    },
    "papermill": {
     "duration": 0.375885,
     "end_time": "2023-10-25T17:07:37.224562",
     "exception": false,
     "start_time": "2023-10-25T17:07:36.848677",
     "status": "completed"
    },
    "tags": []
   },
   "outputs": [],
   "source": [
    "# This Python 3 environment comes with many helpful analytics libraries installed\n",
    "# It is defined by the kaggle/python Docker image: https://github.com/kaggle/docker-python\n",
    "# For example, here's several helpful packages to load\n",
    "\n",
    "import numpy as np # linear algebra\n",
    "import pandas as pd # data processing, CSV file I/O (e.g. pd.read_csv)\n",
    "\n",
    "# Input data files are available in the read-only \"../input/\" directory\n",
    "# For example, running this (by clicking run or pressing Shift+Enter) will list all files under the input directory\n",
    "\n",
    "import os\n",
    "for dirname, _, filenames in os.walk('/kaggle/input'):\n",
    "    for filename in filenames:\n",
    "        print(os.path.join(dirname, filename))\n",
    "\n",
    "# You can write up to 20GB to the current directory (/kaggle/working/) that gets preserved as output when you create a version using \"Save & Run All\" \n",
    "# You can also write temporary files to /kaggle/temp/, but they won't be saved outside of the current session"
   ]
  },
  {
   "cell_type": "code",
   "execution_count": 2,
   "id": "62a6e3a0",
   "metadata": {
    "execution": {
     "iopub.execute_input": "2023-10-25T17:07:37.235363Z",
     "iopub.status.busy": "2023-10-25T17:07:37.233387Z",
     "iopub.status.idle": "2023-10-25T17:07:37.240992Z",
     "shell.execute_reply": "2023-10-25T17:07:37.239971Z"
    },
    "papermill": {
     "duration": 0.015555,
     "end_time": "2023-10-25T17:07:37.243407",
     "exception": false,
     "start_time": "2023-10-25T17:07:37.227852",
     "status": "completed"
    },
    "tags": []
   },
   "outputs": [
    {
     "name": "stdout",
     "output_type": "stream",
     "text": [
      "2\n",
      "4\n",
      "6\n",
      "8\n",
      "10\n",
      "12\n",
      "14\n",
      "16\n",
      "18\n",
      "20\n",
      "22\n"
     ]
    }
   ],
   "source": [
    "a=2\n",
    "x=0\n",
    "print(a)\n",
    "while x<20:\n",
    "    b=a+2\n",
    "    print(b)\n",
    "    x=a\n",
    "    a=b\n",
    " \n",
    "    \n",
    "\n",
    "\n",
    "\n",
    "\n",
    "    \n",
    "  \n"
   ]
  },
  {
   "cell_type": "code",
   "execution_count": 3,
   "id": "dc9ff778",
   "metadata": {
    "execution": {
     "iopub.execute_input": "2023-10-25T17:07:37.251118Z",
     "iopub.status.busy": "2023-10-25T17:07:37.249150Z",
     "iopub.status.idle": "2023-10-25T17:07:37.256200Z",
     "shell.execute_reply": "2023-10-25T17:07:37.254973Z"
    },
    "papermill": {
     "duration": 0.012638,
     "end_time": "2023-10-25T17:07:37.258350",
     "exception": false,
     "start_time": "2023-10-25T17:07:37.245712",
     "status": "completed"
    },
    "tags": []
   },
   "outputs": [
    {
     "name": "stdout",
     "output_type": "stream",
     "text": [
      "2\n",
      "4\n",
      "8\n",
      "16\n",
      "32\n",
      "64\n"
     ]
    }
   ],
   "source": [
    "a=1\n",
    "x=0\n",
    "while x<20:\n",
    "    b=a*2\n",
    "    print(b)\n",
    "    x=a\n",
    "    a=b\n",
    " \n",
    "    \n",
    "\n",
    "    "
   ]
  },
  {
   "cell_type": "code",
   "execution_count": 4,
   "id": "42b56ebb",
   "metadata": {
    "execution": {
     "iopub.execute_input": "2023-10-25T17:07:37.264665Z",
     "iopub.status.busy": "2023-10-25T17:07:37.264118Z",
     "iopub.status.idle": "2023-10-25T17:07:37.270026Z",
     "shell.execute_reply": "2023-10-25T17:07:37.268884Z"
    },
    "papermill": {
     "duration": 0.011554,
     "end_time": "2023-10-25T17:07:37.272226",
     "exception": false,
     "start_time": "2023-10-25T17:07:37.260672",
     "status": "completed"
    },
    "tags": []
   },
   "outputs": [
    {
     "name": "stdout",
     "output_type": "stream",
     "text": [
      "1\n",
      "2\n",
      "3\n",
      "5\n",
      "8\n",
      "13\n",
      "21\n",
      "34\n",
      "55\n",
      "89\n",
      "144\n"
     ]
    }
   ],
   "source": [
    "a=0\n",
    "b=1\n",
    "x=0\n",
    "while x<100:\n",
    "    x=a+b\n",
    "    print(x)\n",
    "    a=b\n",
    "    b=x\n",
    "    \n",
    "   "
   ]
  },
  {
   "cell_type": "code",
   "execution_count": null,
   "id": "0711f37a",
   "metadata": {
    "papermill": {
     "duration": 0.001959,
     "end_time": "2023-10-25T17:07:37.276488",
     "exception": false,
     "start_time": "2023-10-25T17:07:37.274529",
     "status": "completed"
    },
    "tags": []
   },
   "outputs": [],
   "source": []
  }
 ],
 "metadata": {
  "kernelspec": {
   "display_name": "Python 3",
   "language": "python",
   "name": "python3"
  },
  "language_info": {
   "codemirror_mode": {
    "name": "ipython",
    "version": 3
   },
   "file_extension": ".py",
   "mimetype": "text/x-python",
   "name": "python",
   "nbconvert_exporter": "python",
   "pygments_lexer": "ipython3",
   "version": "3.10.12"
  },
  "papermill": {
   "default_parameters": {},
   "duration": 4.018491,
   "end_time": "2023-10-25T17:07:37.698101",
   "environment_variables": {},
   "exception": null,
   "input_path": "__notebook__.ipynb",
   "output_path": "__notebook__.ipynb",
   "parameters": {},
   "start_time": "2023-10-25T17:07:33.679610",
   "version": "2.4.0"
  }
 },
 "nbformat": 4,
 "nbformat_minor": 5
}
