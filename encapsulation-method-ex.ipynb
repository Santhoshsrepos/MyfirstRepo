{
 "cells": [
  {
   "cell_type": "code",
   "execution_count": 1,
   "id": "f21db9de",
   "metadata": {
    "_cell_guid": "b1076dfc-b9ad-4769-8c92-a6c4dae69d19",
    "_uuid": "8f2839f25d086af736a60e9eeb907d3b93b6e0e5",
    "execution": {
     "iopub.execute_input": "2023-08-21T18:07:35.661939Z",
     "iopub.status.busy": "2023-08-21T18:07:35.661535Z",
     "iopub.status.idle": "2023-08-21T18:07:35.674327Z",
     "shell.execute_reply": "2023-08-21T18:07:35.673211Z"
    },
    "papermill": {
     "duration": 0.021661,
     "end_time": "2023-08-21T18:07:35.677203",
     "exception": false,
     "start_time": "2023-08-21T18:07:35.655542",
     "status": "completed"
    },
    "tags": []
   },
   "outputs": [],
   "source": [
    "# This Python 3 environment comes with many helpful analytics libraries installed\n",
    "# It is defined by the kaggle/python Docker image: https://github.com/kaggle/docker-python\n",
    "# For example, here's several helpful packages to load\n",
    "\n",
    "import numpy as np # linear algebra\n",
    "import pandas as pd # data processing, CSV file I/O (e.g. pd.read_csv)\n",
    "\n",
    "# Input data files are available in the read-only \"../input/\" directory\n",
    "# For example, running this (by clicking run or pressing Shift+Enter) will list all files under the input directory\n",
    "\n",
    "import os\n",
    "for dirname, _, filenames in os.walk('/kaggle/input'):\n",
    "    for filename in filenames:\n",
    "        print(os.path.join(dirname, filename))\n",
    "\n",
    "# You can write up to 20GB to the current directory (/kaggle/working/) that gets preserved as output when you create a version using \"Save & Run All\" \n",
    "# You can also write temporary files to /kaggle/temp/, but they won't be saved outside of the current session"
   ]
  },
  {
   "cell_type": "markdown",
   "id": "0cf1bc6c",
   "metadata": {
    "papermill": {
     "duration": 0.003234,
     "end_time": "2023-08-21T18:07:35.684306",
     "exception": false,
     "start_time": "2023-08-21T18:07:35.681072",
     "status": "completed"
    },
    "tags": []
   },
   "source": []
  },
  {
   "cell_type": "markdown",
   "id": "fd1d8c44",
   "metadata": {
    "papermill": {
     "duration": 0.003135,
     "end_time": "2023-08-21T18:07:35.690939",
     "exception": false,
     "start_time": "2023-08-21T18:07:35.687804",
     "status": "completed"
    },
    "tags": []
   },
   "source": [
    "Encapsulation is like hiding a function which is restricted so we can using the encapsulation method we can perform it "
   ]
  },
  {
   "cell_type": "markdown",
   "id": "fbeddb88",
   "metadata": {
    "papermill": {
     "duration": 0.003194,
     "end_time": "2023-08-21T18:07:35.697515",
     "exception": false,
     "start_time": "2023-08-21T18:07:35.694321",
     "status": "completed"
    },
    "tags": []
   },
   "source": []
  },
  {
   "cell_type": "markdown",
   "id": "0aa38257",
   "metadata": {
    "papermill": {
     "duration": 0.003072,
     "end_time": "2023-08-21T18:07:35.703950",
     "exception": false,
     "start_time": "2023-08-21T18:07:35.700878",
     "status": "completed"
    },
    "tags": []
   },
   "source": [
    "For using double underscore __ means private variables"
   ]
  },
  {
   "cell_type": "code",
   "execution_count": 2,
   "id": "e6312038",
   "metadata": {
    "execution": {
     "iopub.execute_input": "2023-08-21T18:07:35.712953Z",
     "iopub.status.busy": "2023-08-21T18:07:35.711818Z",
     "iopub.status.idle": "2023-08-21T18:07:35.719292Z",
     "shell.execute_reply": "2023-08-21T18:07:35.718213Z"
    },
    "papermill": {
     "duration": 0.01422,
     "end_time": "2023-08-21T18:07:35.721454",
     "exception": false,
     "start_time": "2023-08-21T18:07:35.707234",
     "status": "completed"
    },
    "tags": []
   },
   "outputs": [
    {
     "name": "stdout",
     "output_type": "stream",
     "text": [
      "Google\n"
     ]
    }
   ],
   "source": [
    "class company():\n",
    "    def __init__(self):\n",
    "        self.__companyname=\"Google\"\n",
    "    def companyname(self):\n",
    "        print(self.__companyname)\n",
    "c1=company()\n",
    "c1.companyname()"
   ]
  },
  {
   "cell_type": "markdown",
   "id": "0111b9b9",
   "metadata": {
    "papermill": {
     "duration": 0.003497,
     "end_time": "2023-08-21T18:07:35.728624",
     "exception": false,
     "start_time": "2023-08-21T18:07:35.725127",
     "status": "completed"
    },
    "tags": []
   },
   "source": [
    "Using single under score is called protected, In protected method we can use to encapsulate the function within parent class too."
   ]
  },
  {
   "cell_type": "code",
   "execution_count": 3,
   "id": "fc59e039",
   "metadata": {
    "execution": {
     "iopub.execute_input": "2023-08-21T18:07:35.738186Z",
     "iopub.status.busy": "2023-08-21T18:07:35.737476Z",
     "iopub.status.idle": "2023-08-21T18:07:35.743616Z",
     "shell.execute_reply": "2023-08-21T18:07:35.742413Z"
    },
    "papermill": {
     "duration": 0.013513,
     "end_time": "2023-08-21T18:07:35.746017",
     "exception": false,
     "start_time": "2023-08-21T18:07:35.732504",
     "status": "completed"
    },
    "tags": []
   },
   "outputs": [
    {
     "name": "stdout",
     "output_type": "stream",
     "text": [
      "Google\n"
     ]
    }
   ],
   "source": [
    "class company():\n",
    "    def __init__(self):\n",
    "        self.companyname=\"Google\"\n",
    "class B(company):\n",
    "    pass\n",
    "b1=B()\n",
    "print(b1.companyname)"
   ]
  },
  {
   "cell_type": "markdown",
   "id": "78f522fc",
   "metadata": {
    "papermill": {
     "duration": 0.003636,
     "end_time": "2023-08-21T18:07:35.753431",
     "exception": false,
     "start_time": "2023-08-21T18:07:35.749795",
     "status": "completed"
    },
    "tags": []
   },
   "source": []
  },
  {
   "cell_type": "markdown",
   "id": "d803c6a9",
   "metadata": {
    "papermill": {
     "duration": 0.003306,
     "end_time": "2023-08-21T18:07:35.760333",
     "exception": false,
     "start_time": "2023-08-21T18:07:35.757027",
     "status": "completed"
    },
    "tags": []
   },
   "source": []
  }
 ],
 "metadata": {
  "kernelspec": {
   "display_name": "Python 3",
   "language": "python",
   "name": "python3"
  },
  "language_info": {
   "codemirror_mode": {
    "name": "ipython",
    "version": 3
   },
   "file_extension": ".py",
   "mimetype": "text/x-python",
   "name": "python",
   "nbconvert_exporter": "python",
   "pygments_lexer": "ipython3",
   "version": "3.10.12"
  },
  "papermill": {
   "default_parameters": {},
   "duration": 12.464956,
   "end_time": "2023-08-21T18:07:36.585776",
   "environment_variables": {},
   "exception": null,
   "input_path": "__notebook__.ipynb",
   "output_path": "__notebook__.ipynb",
   "parameters": {},
   "start_time": "2023-08-21T18:07:24.120820",
   "version": "2.4.0"
  }
 },
 "nbformat": 4,
 "nbformat_minor": 5
}
