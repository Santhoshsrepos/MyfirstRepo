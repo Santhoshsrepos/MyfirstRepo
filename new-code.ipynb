{
 "cells": [
  {
   "cell_type": "code",
   "execution_count": 1,
   "id": "dc1364bd",
   "metadata": {
    "_cell_guid": "b1076dfc-b9ad-4769-8c92-a6c4dae69d19",
    "_uuid": "8f2839f25d086af736a60e9eeb907d3b93b6e0e5",
    "execution": {
     "iopub.execute_input": "2023-08-18T18:23:54.188188Z",
     "iopub.status.busy": "2023-08-18T18:23:54.187666Z",
     "iopub.status.idle": "2023-08-18T18:23:54.203897Z",
     "shell.execute_reply": "2023-08-18T18:23:54.202928Z"
    },
    "papermill": {
     "duration": 0.022858,
     "end_time": "2023-08-18T18:23:54.206158",
     "exception": false,
     "start_time": "2023-08-18T18:23:54.183300",
     "status": "completed"
    },
    "tags": []
   },
   "outputs": [
    {
     "name": "stdout",
     "output_type": "stream",
     "text": [
      "Ramesh\n",
      "Drink: yes\n",
      "Let's enjoy...\n",
      "suresh\n",
      "Drink: No\n",
      "Enjoy beach...\n"
     ]
    }
   ],
   "source": [
    "class goa:\n",
    "    name =\"\"\n",
    "    drink =\"\"\n",
    "    def party(self):\n",
    "        print(\"Let's enjoy...\")\n",
    "    def beach(self):\n",
    "        print(\"Enjoy beach...\")\n",
    "\n",
    "ramesh= goa()\n",
    "suresh= goa()\n",
    "\n",
    "ramesh.name=\"Ramesh\"\n",
    "suresh.name=\"suresh\"\n",
    "\n",
    "ramesh.drink=\"yes\"\n",
    "suresh.drink=\"No\"\n",
    "\n",
    "print(ramesh.name)\n",
    "print(\"Drink:\",ramesh.drink)\n",
    "ramesh.party()\n",
    "\n",
    "print(suresh.name)\n",
    "print(\"Drink:\",suresh.drink)\n",
    "suresh.beach()\n",
    "\n",
    "    "
   ]
  },
  {
   "cell_type": "code",
   "execution_count": null,
   "id": "9b072022",
   "metadata": {
    "papermill": {
     "duration": 0.001659,
     "end_time": "2023-08-18T18:23:54.209945",
     "exception": false,
     "start_time": "2023-08-18T18:23:54.208286",
     "status": "completed"
    },
    "tags": []
   },
   "outputs": [],
   "source": []
  }
 ],
 "metadata": {
  "kernelspec": {
   "display_name": "Python 3",
   "language": "python",
   "name": "python3"
  },
  "language_info": {
   "codemirror_mode": {
    "name": "ipython",
    "version": 3
   },
   "file_extension": ".py",
   "mimetype": "text/x-python",
   "name": "python",
   "nbconvert_exporter": "python",
   "pygments_lexer": "ipython3",
   "version": "3.10.12"
  },
  "papermill": {
   "default_parameters": {},
   "duration": 11.954203,
   "end_time": "2023-08-18T18:23:55.033770",
   "environment_variables": {},
   "exception": null,
   "input_path": "__notebook__.ipynb",
   "output_path": "__notebook__.ipynb",
   "parameters": {},
   "start_time": "2023-08-18T18:23:43.079567",
   "version": "2.4.0"
  }
 },
 "nbformat": 4,
 "nbformat_minor": 5
}
