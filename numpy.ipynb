{
 "cells": [
  {
   "cell_type": "code",
   "execution_count": 1,
   "id": "07c27e77",
   "metadata": {
    "_cell_guid": "b1076dfc-b9ad-4769-8c92-a6c4dae69d19",
    "_uuid": "8f2839f25d086af736a60e9eeb907d3b93b6e0e5",
    "execution": {
     "iopub.execute_input": "2023-08-25T18:27:18.283945Z",
     "iopub.status.busy": "2023-08-25T18:27:18.283253Z",
     "iopub.status.idle": "2023-08-25T18:27:18.295571Z",
     "shell.execute_reply": "2023-08-25T18:27:18.294680Z"
    },
    "papermill": {
     "duration": 0.023347,
     "end_time": "2023-08-25T18:27:18.298095",
     "exception": false,
     "start_time": "2023-08-25T18:27:18.274748",
     "status": "completed"
    },
    "tags": []
   },
   "outputs": [],
   "source": [
    "# This Python 3 environment comes with many helpful analytics libraries installed\n",
    "# It is defined by the kaggle/python Docker image: https://github.com/kaggle/docker-python\n",
    "# For example, here's several helpful packages to load\n",
    "\n",
    "import numpy as np # linear algebra\n",
    "import pandas as pd # data processing, CSV file I/O (e.g. pd.read_csv)\n",
    "\n",
    "# Input data files are available in the read-only \"../input/\" directory\n",
    "# For example, running this (by clicking run or pressing Shift+Enter) will list all files under the input directory\n",
    "\n",
    "import os\n",
    "for dirname, _, filenames in os.walk('/kaggle/input'):\n",
    "    for filename in filenames:\n",
    "        print(os.path.join(dirname, filename))\n",
    "\n",
    "# You can write up to 20GB to the current directory (/kaggle/working/) that gets preserved as output when you create a version using \"Save & Run All\" \n",
    "# You can also write temporary files to /kaggle/temp/, but they won't be saved outside of the current session"
   ]
  },
  {
   "cell_type": "code",
   "execution_count": 2,
   "id": "654bd158",
   "metadata": {
    "execution": {
     "iopub.execute_input": "2023-08-25T18:27:18.311403Z",
     "iopub.status.busy": "2023-08-25T18:27:18.310848Z",
     "iopub.status.idle": "2023-08-25T18:27:18.316516Z",
     "shell.execute_reply": "2023-08-25T18:27:18.315332Z"
    },
    "papermill": {
     "duration": 0.014774,
     "end_time": "2023-08-25T18:27:18.318853",
     "exception": false,
     "start_time": "2023-08-25T18:27:18.304079",
     "status": "completed"
    },
    "tags": []
   },
   "outputs": [],
   "source": [
    "import numpy as np\n",
    "list1 = [1,2,3,4,5]\n",
    "x = np.array(list1)"
   ]
  },
  {
   "cell_type": "code",
   "execution_count": 3,
   "id": "a513bd9f",
   "metadata": {
    "execution": {
     "iopub.execute_input": "2023-08-25T18:27:18.331506Z",
     "iopub.status.busy": "2023-08-25T18:27:18.330840Z",
     "iopub.status.idle": "2023-08-25T18:27:18.337441Z",
     "shell.execute_reply": "2023-08-25T18:27:18.336579Z"
    },
    "papermill": {
     "duration": 0.015655,
     "end_time": "2023-08-25T18:27:18.339776",
     "exception": false,
     "start_time": "2023-08-25T18:27:18.324121",
     "status": "completed"
    },
    "tags": []
   },
   "outputs": [
    {
     "data": {
      "text/plain": [
       "numpy.ndarray"
      ]
     },
     "execution_count": 3,
     "metadata": {},
     "output_type": "execute_result"
    }
   ],
   "source": [
    "type(x)"
   ]
  },
  {
   "cell_type": "markdown",
   "id": "a4a52862",
   "metadata": {
    "papermill": {
     "duration": 0.005295,
     "end_time": "2023-08-25T18:27:18.350644",
     "exception": false,
     "start_time": "2023-08-25T18:27:18.345349",
     "status": "completed"
    },
    "tags": []
   },
   "source": [
    "**ndarray = one dimentional array****"
   ]
  },
  {
   "cell_type": "code",
   "execution_count": 4,
   "id": "43a9c4d3",
   "metadata": {
    "execution": {
     "iopub.execute_input": "2023-08-25T18:27:18.363197Z",
     "iopub.status.busy": "2023-08-25T18:27:18.362538Z",
     "iopub.status.idle": "2023-08-25T18:27:18.370873Z",
     "shell.execute_reply": "2023-08-25T18:27:18.369704Z"
    },
    "papermill": {
     "duration": 0.017635,
     "end_time": "2023-08-25T18:27:18.373460",
     "exception": false,
     "start_time": "2023-08-25T18:27:18.355825",
     "status": "completed"
    },
    "tags": []
   },
   "outputs": [
    {
     "data": {
      "text/plain": [
       "array([2, 2, 2, 2, 2])"
      ]
     },
     "execution_count": 4,
     "metadata": {},
     "output_type": "execute_result"
    }
   ],
   "source": [
    "np.array([2,2,2,2,2])"
   ]
  },
  {
   "cell_type": "code",
   "execution_count": 5,
   "id": "49f337ee",
   "metadata": {
    "execution": {
     "iopub.execute_input": "2023-08-25T18:27:18.386566Z",
     "iopub.status.busy": "2023-08-25T18:27:18.386174Z",
     "iopub.status.idle": "2023-08-25T18:27:18.393816Z",
     "shell.execute_reply": "2023-08-25T18:27:18.392544Z"
    },
    "papermill": {
     "duration": 0.017158,
     "end_time": "2023-08-25T18:27:18.396169",
     "exception": false,
     "start_time": "2023-08-25T18:27:18.379011",
     "status": "completed"
    },
    "tags": []
   },
   "outputs": [
    {
     "data": {
      "text/plain": [
       "(4,)"
      ]
     },
     "execution_count": 5,
     "metadata": {},
     "output_type": "execute_result"
    }
   ],
   "source": [
    "np.array((3,3,3,3)).shape"
   ]
  },
  {
   "cell_type": "code",
   "execution_count": 6,
   "id": "df119509",
   "metadata": {
    "execution": {
     "iopub.execute_input": "2023-08-25T18:27:18.409783Z",
     "iopub.status.busy": "2023-08-25T18:27:18.409115Z",
     "iopub.status.idle": "2023-08-25T18:27:18.415385Z",
     "shell.execute_reply": "2023-08-25T18:27:18.414474Z"
    },
    "papermill": {
     "duration": 0.015939,
     "end_time": "2023-08-25T18:27:18.417713",
     "exception": false,
     "start_time": "2023-08-25T18:27:18.401774",
     "status": "completed"
    },
    "tags": []
   },
   "outputs": [
    {
     "data": {
      "text/plain": [
       "array({1, 4}, dtype=object)"
      ]
     },
     "execution_count": 6,
     "metadata": {},
     "output_type": "execute_result"
    }
   ],
   "source": [
    "\n",
    "np.array({1,1,1,4})"
   ]
  },
  {
   "cell_type": "code",
   "execution_count": 7,
   "id": "1776feab",
   "metadata": {
    "execution": {
     "iopub.execute_input": "2023-08-25T18:27:18.431750Z",
     "iopub.status.busy": "2023-08-25T18:27:18.431065Z",
     "iopub.status.idle": "2023-08-25T18:27:18.435917Z",
     "shell.execute_reply": "2023-08-25T18:27:18.435056Z"
    },
    "papermill": {
     "duration": 0.014842,
     "end_time": "2023-08-25T18:27:18.438395",
     "exception": false,
     "start_time": "2023-08-25T18:27:18.423553",
     "status": "completed"
    },
    "tags": []
   },
   "outputs": [],
   "source": [
    "array2d = np.array([[1,2,3,4],[1,2,3,4],[1,2,3,4]])"
   ]
  },
  {
   "cell_type": "code",
   "execution_count": 8,
   "id": "063e0db5",
   "metadata": {
    "execution": {
     "iopub.execute_input": "2023-08-25T18:27:18.452157Z",
     "iopub.status.busy": "2023-08-25T18:27:18.451467Z",
     "iopub.status.idle": "2023-08-25T18:27:18.457536Z",
     "shell.execute_reply": "2023-08-25T18:27:18.456642Z"
    },
    "papermill": {
     "duration": 0.015498,
     "end_time": "2023-08-25T18:27:18.459726",
     "exception": false,
     "start_time": "2023-08-25T18:27:18.444228",
     "status": "completed"
    },
    "tags": []
   },
   "outputs": [
    {
     "data": {
      "text/plain": [
       "array([[1, 2, 3, 4],\n",
       "       [1, 2, 3, 4],\n",
       "       [1, 2, 3, 4]])"
      ]
     },
     "execution_count": 8,
     "metadata": {},
     "output_type": "execute_result"
    }
   ],
   "source": [
    "array2d"
   ]
  },
  {
   "cell_type": "markdown",
   "id": "d957f5ef",
   "metadata": {
    "papermill": {
     "duration": 0.005506,
     "end_time": "2023-08-25T18:27:18.471585",
     "exception": false,
     "start_time": "2023-08-25T18:27:18.466079",
     "status": "completed"
    },
    "tags": []
   },
   "source": [
    "**2dimentional_array**"
   ]
  },
  {
   "cell_type": "code",
   "execution_count": 9,
   "id": "7a7a1229",
   "metadata": {
    "execution": {
     "iopub.execute_input": "2023-08-25T18:27:18.485194Z",
     "iopub.status.busy": "2023-08-25T18:27:18.484799Z",
     "iopub.status.idle": "2023-08-25T18:27:18.490752Z",
     "shell.execute_reply": "2023-08-25T18:27:18.489470Z"
    },
    "papermill": {
     "duration": 0.015661,
     "end_time": "2023-08-25T18:27:18.493014",
     "exception": false,
     "start_time": "2023-08-25T18:27:18.477353",
     "status": "completed"
    },
    "tags": []
   },
   "outputs": [
    {
     "data": {
      "text/plain": [
       "(3, 4)"
      ]
     },
     "execution_count": 9,
     "metadata": {},
     "output_type": "execute_result"
    }
   ],
   "source": [
    "array2d.shape"
   ]
  },
  {
   "cell_type": "code",
   "execution_count": 10,
   "id": "6fb08ca6",
   "metadata": {
    "execution": {
     "iopub.execute_input": "2023-08-25T18:27:18.508495Z",
     "iopub.status.busy": "2023-08-25T18:27:18.507757Z",
     "iopub.status.idle": "2023-08-25T18:27:18.513164Z",
     "shell.execute_reply": "2023-08-25T18:27:18.512145Z"
    },
    "papermill": {
     "duration": 0.01535,
     "end_time": "2023-08-25T18:27:18.515623",
     "exception": false,
     "start_time": "2023-08-25T18:27:18.500273",
     "status": "completed"
    },
    "tags": []
   },
   "outputs": [],
   "source": [
    "list_1 = [1,2,3,4,5]\n",
    "list_2 = [1,2,3,4,5]\n",
    "array2d_2 = np.array([list_1,list_2])"
   ]
  },
  {
   "cell_type": "code",
   "execution_count": 11,
   "id": "f89b9f1c",
   "metadata": {
    "execution": {
     "iopub.execute_input": "2023-08-25T18:27:18.530030Z",
     "iopub.status.busy": "2023-08-25T18:27:18.529385Z",
     "iopub.status.idle": "2023-08-25T18:27:18.536291Z",
     "shell.execute_reply": "2023-08-25T18:27:18.535180Z"
    },
    "papermill": {
     "duration": 0.016752,
     "end_time": "2023-08-25T18:27:18.538534",
     "exception": false,
     "start_time": "2023-08-25T18:27:18.521782",
     "status": "completed"
    },
    "tags": []
   },
   "outputs": [
    {
     "data": {
      "text/plain": [
       "array([[1, 2, 3, 4, 5],\n",
       "       [1, 2, 3, 4, 5]])"
      ]
     },
     "execution_count": 11,
     "metadata": {},
     "output_type": "execute_result"
    }
   ],
   "source": [
    "array2d_2"
   ]
  },
  {
   "cell_type": "code",
   "execution_count": null,
   "id": "06a1b9b5",
   "metadata": {
    "papermill": {
     "duration": 0.00582,
     "end_time": "2023-08-25T18:27:18.550596",
     "exception": false,
     "start_time": "2023-08-25T18:27:18.544776",
     "status": "completed"
    },
    "tags": []
   },
   "outputs": [],
   "source": []
  }
 ],
 "metadata": {
  "kernelspec": {
   "display_name": "Python 3",
   "language": "python",
   "name": "python3"
  },
  "language_info": {
   "codemirror_mode": {
    "name": "ipython",
    "version": 3
   },
   "file_extension": ".py",
   "mimetype": "text/x-python",
   "name": "python",
   "nbconvert_exporter": "python",
   "pygments_lexer": "ipython3",
   "version": "3.10.12"
  },
  "papermill": {
   "default_parameters": {},
   "duration": 13.430989,
   "end_time": "2023-08-25T18:27:19.478610",
   "environment_variables": {},
   "exception": null,
   "input_path": "__notebook__.ipynb",
   "output_path": "__notebook__.ipynb",
   "parameters": {},
   "start_time": "2023-08-25T18:27:06.047621",
   "version": "2.4.0"
  }
 },
 "nbformat": 4,
 "nbformat_minor": 5
}
